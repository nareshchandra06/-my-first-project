{
  "nbformat": 4,
  "nbformat_minor": 0,
  "metadata": {
    "colab": {
      "provenance": [],
      "authorship_tag": "ABX9TyNBUtYo2kHnxK12vGJPJXBM",
      "include_colab_link": true
    },
    "kernelspec": {
      "name": "python3",
      "display_name": "Python 3"
    },
    "language_info": {
      "name": "python"
    }
  },
  "cells": [
    {
      "cell_type": "markdown",
      "metadata": {
        "id": "view-in-github",
        "colab_type": "text"
      },
      "source": [
        "<a href=\"https://colab.research.google.com/github/nareshchandra06/-my-first-project/blob/master/Pandas.ipynb\" target=\"_parent\"><img src=\"https://colab.research.google.com/assets/colab-badge.svg\" alt=\"Open In Colab\"/></a>"
      ]
    },
    {
      "cell_type": "markdown",
      "source": [
        "**Pandas Exploration**\n",
        "*  Pandas = Python Data Analysis Library\n",
        "*  Built on top of NumPy\n",
        "*  Provides Series (1D) and DataFrame (2D table-like) structures\n",
        "*  Makes working with structured data (like Excel, CSV, SQL) super easy\n",
        "\n",
        "\n",
        "\n",
        "\n",
        "\n",
        "\n",
        "\n",
        "\n",
        "\n"
      ],
      "metadata": {
        "id": "t7asT4t4v0wG"
      }
    },
    {
      "cell_type": "markdown",
      "source": [
        "**Pandas Series**\n",
        "\n",
        "  A Pandas Series is one-dimensional labeled array capable of holding data of any type (integer, string, float, Python objects etc.). The axis labels are collectively called indexes. Pandas Series is created by loading the datasets from existing storage which can be a SQL database, a CSV file or an Excel file. It can be created from lists, dictionaries, scalar values, etc."
      ],
      "metadata": {
        "id": "A8ES-8IRxaJX"
      }
    },
    {
      "cell_type": "code",
      "source": [
        "from google.colab import drive\n",
        "drive.mount('/content/drive')"
      ],
      "metadata": {
        "colab": {
          "base_uri": "https://localhost:8080/"
        },
        "id": "0zTGW7VHDeXk",
        "outputId": "c87e8fa8-720b-4339-f064-eb767d55e097"
      },
      "execution_count": null,
      "outputs": [
        {
          "output_type": "stream",
          "name": "stdout",
          "text": [
            "Mounted at /content/drive\n"
          ]
        }
      ]
    },
    {
      "cell_type": "code",
      "execution_count": null,
      "metadata": {
        "colab": {
          "base_uri": "https://localhost:8080/"
        },
        "id": "fieiTjbLvz_5",
        "outputId": "17c649a9-d5bb-4b7e-b519-9ee86ded9034"
      },
      "outputs": [
        {
          "output_type": "stream",
          "name": "stdout",
          "text": [
            "0    10\n",
            "1    20\n",
            "2    30\n",
            "3    40\n",
            "dtype: int64\n",
            "\n",
            "Create series with index\n",
            "d    4\n",
            "e    5\n",
            "a    6\n",
            "b    7\n",
            "c    7\n",
            "dtype: int64\n",
            "\n",
            "Labels in index can be used in selecting single value or set of values\n",
            "4\n",
            "d    4\n",
            "e    5\n",
            "c    7\n",
            "dtype: int64\n",
            "d     8\n",
            "e    10\n",
            "a    12\n",
            "b    14\n",
            "c    14\n",
            "dtype: int64\n",
            "1318      male\n",
            "1319    female\n",
            "1320      male\n",
            "1321      male\n",
            "1322      male\n",
            "1323    female\n",
            "1324      male\n",
            "1325      male\n",
            "1326    female\n",
            "1327      male\n",
            "1328    female\n",
            "1329      male\n",
            "1330    female\n",
            "1331    female\n",
            "1332    female\n",
            "1333      male\n",
            "1334    female\n",
            "1335    female\n",
            "1336    female\n",
            "1337    female\n",
            "Name: sex, dtype: object\n"
          ]
        }
      ],
      "source": [
        "import pandas as pd\n",
        "s = pd.Series([10, 20, 30, 40])\n",
        "print(s)\n",
        "print()\n",
        "\n",
        "##Create series with index identifying each data point as label\n",
        "obj=pd.Series([4,5,6,7,7], index=[\"d\",\"e\",\"a\",\"b\",\"c\"])\n",
        "print(\"Create series with index\")\n",
        "print(obj)\n",
        "\n",
        "##Labels in index can be used in selecting single value or set of values\n",
        "print()\n",
        "print(\"Labels in index can be used in selecting single value or set of values\")\n",
        "print(obj[\"d\"])\n",
        "print(obj[[\"d\",\"e\",\"c\"]])\n",
        "print(obj*2)\n",
        "obj2=pd.read_csv('/content/drive/MyDrive/insurance.csv')\n",
        "#print(obj2.head(20))\n",
        "#print(pd.Series(obj2['sex']).tail(20))"
      ]
    },
    {
      "cell_type": "markdown",
      "source": [
        "**Pandas DataFrame**\n",
        "\n",
        "A Pandas DataFrame is a two-dimensional table-like structure in Python where data is arranged in rows and columns. It’s one of the most commonly used tools for handling data and makes it easy to organize, analyze and manipulate data. It can store different types of data such as numbers, text and dates across its columns."
      ],
      "metadata": {
        "id": "DbJjH2j8HtZF"
      }
    },
    {
      "cell_type": "code",
      "source": [
        "import pandas as pd\n",
        "data = {'Name':['Jai', 'Princi', 'Gaurav', 'Anuj'],\n",
        "        'Age':[27, 24, 22, 32],\n",
        "        'Address':['Delhi', 'Kanpur', 'Allahabad', 'Kannauj'],\n",
        "        'Qualification':['Msc', 'MA', 'MCA', 'Phd'],\n",
        "        }\n",
        "df=pd.DataFrame(data)\n",
        "print(df)"
      ],
      "metadata": {
        "colab": {
          "base_uri": "https://localhost:8080/"
        },
        "id": "Xx2D2i-_Hs6M",
        "outputId": "dcef091a-4683-4f67-facf-bdf6fa547ac1"
      },
      "execution_count": null,
      "outputs": [
        {
          "output_type": "stream",
          "name": "stdout",
          "text": [
            "     Name  Age    Address Qualification\n",
            "0     Jai   27      Delhi           Msc\n",
            "1  Princi   24     Kanpur            MA\n",
            "2  Gaurav   22  Allahabad           MCA\n",
            "3    Anuj   32    Kannauj           Phd\n"
          ]
        }
      ]
    },
    {
      "cell_type": "code",
      "source": [
        "##Arrange the columns order\n",
        "df=pd.DataFrame(data, columns=[\"Age\",\"Name\",\"Qualification\",\"Address\",\"Scored\"])\n",
        "print(df)\n",
        "print()\n",
        "##Print a specific column\n",
        "print(\"Print a specific column\")\n",
        "print(df[\"Name\"])\n",
        "print()\n",
        "##Print subset of columns\n",
        "print(\"Print subset of columns\")\n",
        "print(pd.DataFrame(data, columns=[\"Name\",\"Age\"]))\n",
        "print()\n",
        "print(\"Retreive 2nd row\")\n",
        "print(df.loc[2]) ##Retreive 2nd ros\n",
        "print(df.iloc[2])\n",
        "print(df)\n",
        "\n",
        "##Assign value to empty column\n",
        "df[\"Scored\"]=60\n",
        "print(df)"
      ],
      "metadata": {
        "id": "A5mRNuZtwCnb",
        "colab": {
          "base_uri": "https://localhost:8080/"
        },
        "outputId": "57348bf8-43e2-4692-bfec-fe23c1f0db9c"
      },
      "execution_count": null,
      "outputs": [
        {
          "output_type": "stream",
          "name": "stdout",
          "text": [
            "   Age    Name Qualification    Address Scored\n",
            "0   27     Jai           Msc      Delhi    NaN\n",
            "1   24  Princi            MA     Kanpur    NaN\n",
            "2   22  Gaurav           MCA  Allahabad    NaN\n",
            "3   32    Anuj           Phd    Kannauj    NaN\n",
            "\n",
            "Print a specific column\n",
            "0       Jai\n",
            "1    Princi\n",
            "2    Gaurav\n",
            "3      Anuj\n",
            "Name: Name, dtype: object\n",
            "\n",
            "Print subset of columns\n",
            "     Name  Age\n",
            "0     Jai   27\n",
            "1  Princi   24\n",
            "2  Gaurav   22\n",
            "3    Anuj   32\n",
            "\n",
            "Retreive 2nd row\n",
            "Age                     22\n",
            "Name                Gaurav\n",
            "Qualification          MCA\n",
            "Address          Allahabad\n",
            "Scored                 NaN\n",
            "Name: 2, dtype: object\n",
            "Age                     22\n",
            "Name                Gaurav\n",
            "Qualification          MCA\n",
            "Address          Allahabad\n",
            "Scored                 NaN\n",
            "Name: 2, dtype: object\n",
            "   Age    Name Qualification    Address Scored\n",
            "0   27     Jai           Msc      Delhi    NaN\n",
            "1   24  Princi            MA     Kanpur    NaN\n",
            "2   22  Gaurav           MCA  Allahabad    NaN\n",
            "3   32    Anuj           Phd    Kannauj    NaN\n",
            "   Age    Name Qualification    Address  Scored\n",
            "0   27     Jai           Msc      Delhi      60\n",
            "1   24  Princi            MA     Kanpur      60\n",
            "2   22  Gaurav           MCA  Allahabad      60\n",
            "3   32    Anuj           Phd    Kannauj      60\n"
          ]
        }
      ]
    },
    {
      "cell_type": "code",
      "source": [
        "print()"
      ],
      "metadata": {
        "id": "W5CYJvQd9x_3"
      },
      "execution_count": null,
      "outputs": []
    }
  ]
}